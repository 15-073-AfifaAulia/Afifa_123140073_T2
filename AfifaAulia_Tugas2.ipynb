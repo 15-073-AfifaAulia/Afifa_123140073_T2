{
  "nbformat": 4,
  "nbformat_minor": 0,
  "metadata": {
    "colab": {
      "provenance": []
    },
    "kernelspec": {
      "name": "python3",
      "display_name": "Python 3"
    },
    "language_info": {
      "name": "python"
    }
  },
  "cells": [
    {
      "cell_type": "code",
      "source": [
        "import random\n",
        "\n",
        "class Robot:\n",
        "    def __init__(self, nama, attack, hp, attack_accuracy=100):\n",
        "        self.nama = nama\n",
        "        self.attack = attack\n",
        "        self.hp = hp\n",
        "        self.max_hp = hp\n",
        "        self.attack_accuracy = attack_accuracy\n",
        "\n",
        "    def attack_enemy(self, enemy):\n",
        "        if random.randint(0, 100) <= self.attack_accuracy:\n",
        "            damage = self.attack\n",
        "            enemy.hp -= damage\n",
        "            print(f\"{self.nama} menyerang {enemy.nama} dengan damage {damage}!\")\n",
        "        else:\n",
        "            print(f\"{self.nama} menyerang {enemy.nama}, tapi meleset!\")\n",
        "\n",
        "    def regen_health(self, amount):\n",
        "        self.hp = min(self.hp + amount, self.max_hp)\n",
        "        print(f\"{self.nama} memulihkan {amount} HP!\")\n",
        "\n",
        "    def is_alive(self):\n",
        "        return self.hp > 0\n",
        "\n",
        "class Game:\n",
        "    def __init__(self, robot1, robot2):\n",
        "        self.robot1 = robot1\n",
        "        self.robot2 = robot2\n",
        "        self.ronde = 1\n",
        "\n",
        "    def run(self):\n",
        "        while self.robot1.is_alive() and self.robot2.is_alive():\n",
        "            print(f\"\\n===== Ronde {self.ronde} =====\\n\")\n",
        "            print(f\"{self.robot1.nama}: HP = {self.robot1.hp}\")\n",
        "            print(f\"{self.robot2.nama}: HP = {self.robot2.hp}\\n\")\n",
        "\n",
        "            self.robot1.attack_enemy(self.robot2)\n",
        "            if not self.robot2.is_alive():\n",
        "                break\n",
        "\n",
        "            self.robot2.attack_enemy(self.robot1)\n",
        "            if not self.robot1.is_alive():\n",
        "                break\n",
        "\n",
        "            if random.random() < 0.2:\n",
        "                self.robot1.regen_health(20)\n",
        "            if random.random() < 0.2:\n",
        "                self.robot2.regen_health(20)\n",
        "\n",
        "            self.ronde += 1\n",
        "\n",
        "        if self.robot1.is_alive():\n",
        "            print(f\"\\n{self.robot1.nama} menang!\")\n",
        "        else:\n",
        "            print(f\"\\n{self.robot2.nama} menang!\")\n",
        "\n",
        "robot1 = Robot(\"Bumblebee\", 30, 200, 80)\n",
        "robot2 = Robot(\"WheelJack\", 40, 150, 90)\n",
        "\n",
        "game = Game(robot1, robot2)\n",
        "game.run()"
      ],
      "metadata": {
        "colab": {
          "base_uri": "https://localhost:8080/"
        },
        "id": "2fVWxYS0JDPQ",
        "outputId": "ebae2913-15bd-4d79-f389-296e725ab09f"
      },
      "execution_count": 10,
      "outputs": [
        {
          "output_type": "stream",
          "name": "stdout",
          "text": [
            "\n",
            "===== Ronde 1 =====\n",
            "\n",
            "Bumblebee: HP = 200\n",
            "WheelJack: HP = 180\n",
            "\n",
            "Bumblebee menyerang WheelJack dengan damage 50!\n",
            "WheelJack menyerang Bumblebee dengan damage 60!\n",
            "\n",
            "===== Ronde 2 =====\n",
            "\n",
            "Bumblebee: HP = 140\n",
            "WheelJack: HP = 130\n",
            "\n",
            "Bumblebee menyerang WheelJack dengan damage 50!\n",
            "WheelJack menyerang Bumblebee dengan damage 60!\n",
            "WheelJack memulihkan 20 HP!\n",
            "\n",
            "===== Ronde 3 =====\n",
            "\n",
            "Bumblebee: HP = 80\n",
            "WheelJack: HP = 100\n",
            "\n",
            "Bumblebee menyerang WheelJack, tapi meleset!\n",
            "WheelJack menyerang Bumblebee dengan damage 60!\n",
            "\n",
            "===== Ronde 4 =====\n",
            "\n",
            "Bumblebee: HP = 20\n",
            "WheelJack: HP = 100\n",
            "\n",
            "Bumblebee menyerang WheelJack dengan damage 50!\n",
            "WheelJack menyerang Bumblebee dengan damage 60!\n",
            "\n",
            "WheelJack menang!\n"
          ]
        }
      ]
    }
  ]
}